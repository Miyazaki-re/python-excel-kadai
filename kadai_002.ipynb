{
  "nbformat": 4,
  "nbformat_minor": 0,
  "metadata": {
    "colab": {
      "provenance": []
    },
    "kernelspec": {
      "name": "python3",
      "display_name": "Python 3"
    },
    "language_info": {
      "name": "python"
    }
  },
  "cells": [
    {
      "cell_type": "code",
      "source": [
        "import pandas as pd\n",
        "\n",
        "data = {\n",
        "    '日付': ['2023-05-17', '2023-05-18', '2023-05-19', '2023-05-20', '2023-05-21'],\n",
        "    '社員名': ['山田', '佐藤', '鈴木', '田中', '高橋'],\n",
        "    '売上': [100, 200, 150, 300, 250],\n",
        "    '部門': ['メーカー', '代理店', 'メーカー', '商社', '代理店']\n",
        "}\n",
        "# DataFrameに変換\n",
        "df = pd.DataFrame(data)\n",
        "\n",
        "# 平均売上を算出\n",
        "average_sales = df['売上'].mean()\n",
        "# 平均売上列の追加\n",
        "df['平均売上'] = average_sales\n",
        "\n",
        "# 業績ランクを決める関数\n",
        "def performance(sales, average):\n",
        "    if sales >= average + 50:\n",
        "        return 'A'\n",
        "    elif sales >= average:\n",
        "        return 'B'\n",
        "    else:\n",
        "        return 'C'\n",
        "# 業績ランク列を追加\n",
        "df['業績ランク'] = df['売上'].apply(lambda x: performance(x, average_sales))\n",
        "\n",
        "# Excelに書き出し\n",
        "df.to_excel('業績.xlsx', index=False)\n",
        "\n",
        "print(\"業績.xlsx に書き出しました。\")"
      ],
      "metadata": {
        "colab": {
          "base_uri": "https://localhost:8080/"
        },
        "id": "ZdrJ6THtKddO",
        "outputId": "4e65cdde-ee7c-47ee-ca7a-3ab8f1eba73b"
      },
      "execution_count": null,
      "outputs": [
        {
          "output_type": "stream",
          "name": "stdout",
          "text": [
            "ファイル「請求書_20250531.xlsx」を作成しました。\n"
          ]
        }
      ]
    }
  ]
}