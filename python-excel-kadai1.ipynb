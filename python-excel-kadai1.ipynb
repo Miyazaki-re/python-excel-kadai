{
  "nbformat": 4,
  "nbformat_minor": 0,
  "metadata": {
    "colab": {
      "provenance": []
    },
    "kernelspec": {
      "name": "python3",
      "display_name": "Python 3"
    },
    "language_info": {
      "name": "python"
    }
  },
  "cells": [
    {
      "cell_type": "markdown",
      "source": [
        "array = [\"水\",\"金\",\"地\",\"火\",\"木\",\"土\",\"天\",\"海\",\"冥\"]\n",
        "\n",
        "リストの中身を先頭から全て取り出して、出力結果が以下のようになるプログラムを、for、while、それぞれを利用して記述して下さい。\n",
        "\n",
        "水\n",
        "金\n",
        "地\n",
        "火\n",
        "木\n",
        "土\n",
        "天\n",
        "海\n",
        "冥\n",
        "水\n",
        "金\n",
        "地\n",
        "火\n",
        "木\n",
        "土\n",
        "天\n",
        "海\n",
        "冥"
      ],
      "metadata": {
        "id": "kpfIRjxP81Op"
      }
    },
    {
      "cell_type": "code",
      "source": [
        "#for文で作成\n",
        "#arrayリストを作成\n",
        "array = [\"水\",\"金\",\"地\",\"火\",\"木\",\"土\",\"天\",\"海\",\"冥\"]\n",
        "\n",
        "#2回繰り返す\n",
        "for i in range(2):\n",
        "#変数planetにリストarrayを代入\n",
        "  for planet in array:\n",
        "    print(planet)"
      ],
      "metadata": {
        "id": "zuL9_nJE9D7a",
        "colab": {
          "base_uri": "https://localhost:8080/"
        },
        "outputId": "c46436b1-4069-4299-ccfa-6bcc29d117fb"
      },
      "execution_count": null,
      "outputs": [
        {
          "output_type": "stream",
          "name": "stdout",
          "text": [
            "水\n",
            "金\n",
            "地\n",
            "火\n",
            "木\n",
            "土\n",
            "天\n",
            "海\n",
            "冥\n",
            "水\n",
            "金\n",
            "地\n",
            "火\n",
            "木\n",
            "土\n",
            "天\n",
            "海\n",
            "冥\n"
          ]
        }
      ]
    },
    {
      "cell_type": "code",
      "source": [
        "#whirleで作成\n",
        "#arrayリストを作成\n",
        "array = [\"水\",\"金\",\"地\",\"火\",\"木\",\"土\",\"天\",\"海\",\"冥\"]\n",
        "\n",
        "#カウンター変数\n",
        "i = 1\n",
        "\n",
        "while i <= 2:\n",
        "    for planet in array:\n",
        "      print(planet)\n",
        "    i = i + 1"
      ],
      "metadata": {
        "id": "iRICGKupEsjS",
        "colab": {
          "base_uri": "https://localhost:8080/"
        },
        "outputId": "b31a410b-431a-44cc-cf76-69a10e6b0d1c"
      },
      "execution_count": null,
      "outputs": [
        {
          "output_type": "stream",
          "name": "stdout",
          "text": [
            "水\n",
            "金\n",
            "地\n",
            "火\n",
            "木\n",
            "土\n",
            "天\n",
            "海\n",
            "冥\n",
            "水\n",
            "金\n",
            "地\n",
            "火\n",
            "木\n",
            "土\n",
            "天\n",
            "海\n",
            "冥\n"
          ]
        }
      ]
    },
    {
      "cell_type": "markdown",
      "source": [
        "商品購入時の消費税を、関数で計算するプログラムのソースコードを作成して提出してください。以下のヒントを参考にして、プログラムを作成してください。\n",
        "\n",
        "消費税を加えた計算結果を返す関数を記述する\n",
        "「結果を返す関数」なので戻り値を使用する\n",
        "第1引数に商品の金額「110」、第2引数に消費税（10%）の「10」を設定する"
      ],
      "metadata": {
        "id": "LlfpIq8pwI7n"
      }
    },
    {
      "cell_type": "code",
      "source": [
        "#consumption_taxを関数とする\n",
        "#引数1：Price、引数2：Tax\n",
        "def consumption_tax(Price,Tax):\n",
        "  total = int (Price + (Price * Tax / 100))\n",
        "  return(total)\n",
        "\n",
        "consumption_tax(110,10)"
      ],
      "metadata": {
        "id": "oYmc6eEBwKfZ",
        "colab": {
          "base_uri": "https://localhost:8080/"
        },
        "outputId": "b3591712-3254-4454-cf03-11f8eb5d6cc8"
      },
      "execution_count": null,
      "outputs": [
        {
          "output_type": "execute_result",
          "data": {
            "text/plain": [
              "121"
            ]
          },
          "metadata": {},
          "execution_count": 3
        }
      ]
    },
    {
      "cell_type": "markdown",
      "source": [
        "以下のコードを実行するとスコープに関するエラーが発生します。エラーを修正して、正しく計算結果が出力されるようにしてください。"
      ],
      "metadata": {
        "id": "HgNrTRhoka8G"
      }
    },
    {
      "cell_type": "code",
      "source": [
        "price1 = 100\n",
        "price2 = 200\n",
        "\n",
        "def total():\n",
        "    tax = 1.1\n",
        "    return price1 + price2\n",
        "\n",
        "print (total() * tax)"
      ],
      "metadata": {
        "id": "Tg2FlWixmnwN",
        "colab": {
          "base_uri": "https://localhost:8080/",
          "height": 182
        },
        "outputId": "e0a3d816-66f0-4640-ceb1-efdbe3a5cbbc"
      },
      "execution_count": null,
      "outputs": [
        {
          "output_type": "error",
          "ename": "NameError",
          "evalue": "name 'tax' is not defined",
          "traceback": [
            "\u001b[0;31m---------------------------------------------------------------------------\u001b[0m",
            "\u001b[0;31mNameError\u001b[0m                                 Traceback (most recent call last)",
            "\u001b[0;32m<ipython-input-4-97afaf5fb70f>\u001b[0m in \u001b[0;36m<cell line: 0>\u001b[0;34m()\u001b[0m\n\u001b[1;32m      6\u001b[0m     \u001b[0;32mreturn\u001b[0m \u001b[0mprice1\u001b[0m \u001b[0;34m+\u001b[0m \u001b[0mprice2\u001b[0m\u001b[0;34m\u001b[0m\u001b[0;34m\u001b[0m\u001b[0m\n\u001b[1;32m      7\u001b[0m \u001b[0;34m\u001b[0m\u001b[0m\n\u001b[0;32m----> 8\u001b[0;31m \u001b[0mprint\u001b[0m \u001b[0;34m(\u001b[0m\u001b[0mtotal\u001b[0m\u001b[0;34m(\u001b[0m\u001b[0;34m)\u001b[0m \u001b[0;34m*\u001b[0m \u001b[0mtax\u001b[0m\u001b[0;34m)\u001b[0m\u001b[0;34m\u001b[0m\u001b[0;34m\u001b[0m\u001b[0m\n\u001b[0m",
            "\u001b[0;31mNameError\u001b[0m: name 'tax' is not defined"
          ]
        }
      ]
    },
    {
      "cell_type": "code",
      "source": [
        "tax = 1.1\n",
        "def total():\n",
        "    price1 = 100\n",
        "    price2 = 200\n",
        "    return price1 + price2\n",
        "\n",
        "print (total() * tax)"
      ],
      "metadata": {
        "id": "XgEI-OQ4keRD"
      },
      "execution_count": null,
      "outputs": []
    },
    {
      "cell_type": "code",
      "source": [
        "def days_until_event(self) -> int:\n",
        "    \"\"\"開催日までの残り日数を返す\"\"\"\n",
        "    today = date.today()\n",
        "    delta = self.date - today\n",
        "    return delta.days\n",
        "    event_name = \"プログラミング初心者向けセミナー\"\n",
        "    event_date = date(2025, 6, 15) # 現在より未来の日付\n",
        "    event_location = \"東京国際フォーラム\""
      ],
      "metadata": {
        "id": "F6jdCRa7Bp29"
      },
      "execution_count": null,
      "outputs": []
    },
    {
      "cell_type": "markdown",
      "source": [
        "event_name = \"プログラミング初心者向けセミナー\"\n",
        "event_date = date(2025, 6, 15) # 現在より未来の日付\n",
        "event_location = \"東京国際フォーラム\""
      ],
      "metadata": {
        "id": "Y3QLw_Y5B4TK"
      }
    },
    {
      "cell_type": "markdown",
      "source": [
        "名前(name)と年齢(age)の属性を持つHumanクラスを作成してください。\n",
        "nameとageを標準出力(print)するメソッド(printinfo)を追加してください。\n",
        "\n",
        "Humanクラスのインスタンスは、変数に代入してプログラム内で使用してください。"
      ],
      "metadata": {
        "id": "sO2rODX1Dxn9"
      }
    },
    {
      "cell_type": "code",
      "source": [
        "class Human :\n",
        "      def __init__(self, name, age):\n",
        "        # 属性を定義する\n",
        "        self.name = name\n",
        "        self.age = age\n",
        "        # メソッドを定義する\n",
        "      def printinfo(self):\n",
        "           print(self.name,self.age)\n",
        "\n",
        "# インスタンス化する\n",
        "human = Human(36,\"侍太郎\" )\n",
        "\n",
        "# 属性にアクセスし、値を出力する\n",
        "human.printinfo()"
      ],
      "metadata": {
        "id": "lioZqp9cD635"
      },
      "execution_count": null,
      "outputs": []
    },
    {
      "cell_type": "code",
      "source": [
        "!rm /etc/localtime\n",
        "!ln -s /usr/share/zoneinfo/Asia/Tokyo /etc/localtime\n",
        "!date"
      ],
      "metadata": {
        "id": "UPwwCL-Pmtht"
      },
      "execution_count": null,
      "outputs": []
    },
    {
      "cell_type": "code",
      "source": [
        "# timeモジュールをインポート\n",
        "import time\n",
        "\n",
        "# 現在の日時を指定したフォーマットで出力する\n",
        "print(time.strftime(\"%Y年%m月%d日%H時%M分%S秒\", time.localtime()))"
      ],
      "metadata": {
        "id": "vdUaruhHnHKv"
      },
      "execution_count": null,
      "outputs": []
    },
    {
      "cell_type": "code",
      "source": [
        "time.time()"
      ],
      "metadata": {
        "id": "KpmiZ5TgnKdd"
      },
      "execution_count": null,
      "outputs": []
    },
    {
      "cell_type": "code",
      "source": [
        "# timeモジュールをインポート\n",
        "import time\n",
        "\n",
        "# 現在時刻をUNIXタイムスタンプで取得\n",
        "print(time.time())"
      ],
      "metadata": {
        "id": "pG6_QWRxnMy1"
      },
      "execution_count": null,
      "outputs": []
    },
    {
      "cell_type": "code",
      "source": [
        "# datetimeモジュールをインポート\n",
        "import datetime\n",
        "\n",
        "# 現在の日時を取得する\n",
        "now = datetime.datetime.now()\n",
        "\n",
        "# 指定した日付を取得する\n",
        "date = datetime.datetime.strptime(\"2015-03-19\", \"%Y-%m-%d\")\n",
        "\n",
        "# 指定した日時を取得する\n",
        "date_time = datetime.datetime.strptime(\"2015-03-19 12:15:30\", \"%Y-%m-%d %H:%M:%S\")"
      ],
      "metadata": {
        "id": "WIfre7eOnQaw"
      },
      "execution_count": null,
      "outputs": []
    },
    {
      "cell_type": "code",
      "source": [
        "# datetimeモジュールをインポート\n",
        "import datetime\n",
        "\n",
        "# 指定した日時を取得する\n",
        "date_time = datetime.datetime.strptime(\"2015-03-19 12:15:30\", \"%Y-%m-%d %H:%M:%S\")\n",
        "\n",
        "# 取得した日付date_timeの日時を特定のフォーマットで出力する\n",
        "print(date_time.strftime(\"%Y年%m月%d日%H時%M分%S秒\"))"
      ],
      "metadata": {
        "id": "_v60URSgnWi_"
      },
      "execution_count": null,
      "outputs": []
    },
    {
      "cell_type": "code",
      "source": [
        "# datetimeモジュールをインポート\n",
        "import datetime\n",
        "\n",
        "# 指定した日時を取得する\n",
        "date_time = datetime.datetime.strptime(\"2015-03-19 12:15:30\", \"%Y-%m-%d %H:%M:%S\")\n",
        "\n",
        "# 取得した日付date_timeの日時を特定のフォーマットで出力する\n",
        "print(date_time.strftime(\"%Y年%m月%d日%H時%M分%S秒\"))"
      ],
      "metadata": {
        "id": "Ms-H6wUBnbWV"
      },
      "execution_count": null,
      "outputs": []
    },
    {
      "cell_type": "code",
      "source": [
        "# datetimeモジュールをインポート\n",
        "import datetime\n",
        "\n",
        "# 指定した日時を取得する\n",
        "date_time = datetime.datetime.strptime(\"2015-03-19 12:15:30\", \"%Y-%m-%d %H:%M:%S\")\n",
        "\n",
        "print(date_time)\n",
        "\n",
        "# 年,月,日,時,分,秒だけをそれぞれ取り出すことも可能です\n",
        "print(date_time.year)\n",
        "print(date_time.month)\n",
        "print(date_time.day)\n",
        "print(date_time.hour)\n",
        "print(date_time.minute)\n",
        "print(date_time.second)"
      ],
      "metadata": {
        "id": "W--o_pSGnfSc"
      },
      "execution_count": null,
      "outputs": []
    },
    {
      "cell_type": "code",
      "source": [
        "# datetimeモジュールをインポート\n",
        "import datetime\n",
        "\n",
        "# 現在時刻を取得する\n",
        "now = datetime.datetime.now()\n",
        "\n",
        "# 指定した日時を取得する\n",
        "date_time = datetime.datetime.strptime(\"2015-03-19 12:15:30\", \"%Y-%m-%d %H:%M:%S\")\n",
        "\n",
        "# 2つのdatetimeの差を取得し、変数intervalに代入する（interval＝間隔）\n",
        "interval = now - date_time\n",
        "\n",
        "# 取得した日時の差を特定のフォーマットで出力する\n",
        "print(f\"総日数は{interval.days}日です。\")"
      ],
      "metadata": {
        "id": "BMvK-LXlnlNI"
      },
      "execution_count": null,
      "outputs": []
    },
    {
      "cell_type": "markdown",
      "source": [
        "名前(name)と年齢(age)の属性を持つHumanクラスを作成してください。\n",
        "\n",
        "Humanクラスには、以下の条件で標準出力(print)するcheck_adultメソッドを追加してください。\n",
        "\n",
        "ageが20以上の場合に大人であること\n",
        "そうでない場合に大人でないこと\n",
        "Humanクラスのインスタンスを複数生成してリストに追加し、リストの要素数分だけcheck_adultメソッドを呼び出してください。"
      ],
      "metadata": {
        "id": "l4CL-hfYtBFR"
      }
    },
    {
      "cell_type": "code",
      "source": [
        "# prompt: 名前(name)と年齢(age)の属性を持つHumanクラスを作成してください。\n",
        "# Humanクラスには、以下の条件で標準出力(print)するcheck_adultメソッドを追加してください。\n",
        "# ageが20以上の場合に大人であること\n",
        "# そうでない場合に大人でないこと\n",
        "# Humanクラスのインスタンスを複数生成してリストに追加し、リストの要素数分だけcheck_adultメソッドを呼び出してください。\n",
        "\n",
        "class Human :\n",
        "    def __init__(self, name, age):\n",
        "        self.name = name\n",
        "        self.age = age\n",
        "\n",
        "    def check_adult(self):\n",
        "        if self.age >= 20:\n",
        "            print(f\"{self.name}さんは大人です。\")\n",
        "        else:\n",
        "            print(f\"{self.name}さんは大人ではありません。\")\n",
        "\n",
        "human_list = []\n",
        "human_list.append(Human(\"山田太郎\", 25))\n",
        "human_list.append(Human(\"佐藤花子\", 18))\n",
        "human_list.append(Human(\"田中一郎\", 30))\n",
        "\n",
        "for human in human_list:\n",
        "    human.check_adult()\n"
      ],
      "metadata": {
        "id": "r_A3KhZ7tDlS"
      },
      "execution_count": null,
      "outputs": []
    },
    {
      "cell_type": "code",
      "source": [
        "#クラスHumanを作成\n",
        "#属性nameとage\n",
        "class Human:\n",
        "  def __init__(self, name, age):\n",
        "    self.name = name\n",
        "    self.age = age\n",
        "#check_adultメソッドで、年齢が20歳以上かどうかで分岐\n",
        "  def check_adult(self):\n",
        "    if self.age >= 20:\n",
        "      print(f\"{self.name}さんは大人です。\")\n",
        "    else :\n",
        "      print(f\"{self.name}さんは大人ではありません。\")\n",
        "\n",
        "people = [\n",
        "    Human(\"太郎\", 25),\n",
        "    Human(\"花子\", 17),\n",
        "    Human(\"健一\", 30),\n",
        "    Human(\"美咲\", 19)\n",
        "    ]\n",
        "\n",
        "for person in people:\n",
        "  person.check_adult()\n",
        "\n"
      ],
      "metadata": {
        "id": "vNtTZ1Gbu3sf"
      },
      "execution_count": null,
      "outputs": []
    },
    {
      "cell_type": "code",
      "source": [
        "!rm /etc/localtime\n",
        "!ln -s /usr/share/zoneinfo/Asia/Tokyo /etc/localtime\n",
        "!date"
      ],
      "metadata": {
        "id": "KvDVuTZ6iyrZ"
      },
      "execution_count": null,
      "outputs": []
    },
    {
      "cell_type": "code",
      "source": [
        "!pip install openpyxl==3.0.10\n",
        "import openpyxl\n",
        "from openpyxl import load_workbook\n",
        "\n",
        "# 新しいワークブックを作成\n",
        "# ファイル名を指定してExcelファイルを開く\n",
        "wb = load_workbook('C:\\Users\\tamap\\Downloads\\請求書課題.xlsx')\n",
        "ws = wb.active\n",
        "\n",
        "# 複数行のデータをリストdataに格納\n",
        "data = [\n",
        "    ['商品A', 2, 10000, 20000],\n",
        "    ['商品B', 1, 150000, 150000],\n",
        "]\n",
        "\n",
        "# 開始位置の指定（例: A2から）\n",
        "start_row = 10\n",
        "start_col = 2\n",
        "\n",
        "# 繰り返し処理でrowに格納し1行ずつ追加\n",
        "for i, value in enumerate(data):\n",
        "    ws.cell(row=start_row + i, column=start_col, value=value)\n",
        "\n",
        "wb.save('C:\\Users\\tamap\\Downloads\\請求書課題2.xlsx')"
      ],
      "metadata": {
        "id": "PvaM0QYbvPZh"
      },
      "execution_count": null,
      "outputs": []
    },
    {
      "cell_type": "code",
      "source": [
        "from ctypes import alignment\n",
        "from openpyxl import Workbook\n",
        "from openpyxl.styles import Alignment, Font\n",
        "from datetime import datetime\n",
        "\n",
        "# 日付とファイル名\n",
        "today = datetime.today().strftime('%Y/%m/%d')\n",
        "filename = f'請求書_{datetime.today().strftime(\"%Y%m%d\")}.xlsx'\n",
        "\n",
        "# ワークブック初期化\n",
        "wb = Workbook()\n",
        "ws = wb.active\n",
        "\n",
        "# セルの内容設定\n",
        "ws['B2'] = '請求書'\n",
        "ws['B2'].font = Font(size=18, bold=True)\n",
        "\n",
        "ws['B4'] = '株式会社ABC'\n",
        "ws['B5'] = '〒101-0022 東京都千代田区神田練塀町300'\n",
        "ws['B6'] = 'TEL:03-1234-5678 FAX:03-1234-5678'\n",
        "ws['B7'] = '担当者名:鈴木一郎 様'\n",
        "\n",
        "ws['F4'] = 'No.'\n",
        "ws['G4'] = '0001'\n",
        "ws['F5'] = '日付'\n",
        "ws['G5'] = today\n",
        "\n",
        "# 明細ヘッダー\n",
        "ws['B10'] = '商品名'\n",
        "ws['C10'] = '数量'\n",
        "ws['D10'] = '単価'\n",
        "ws['E10'] = '金額'\n",
        "\n",
        "# 明細内容（例）\n",
        "items = [\n",
        "    ['商品A', 2, 10000],\n",
        "    ['商品B', 1, 15000],\n",
        "]\n",
        "\n",
        "start_row = 11\n",
        "for i, item in enumerate(items):\n",
        "    name, qty, price = item\n",
        "    amount = qty * price\n",
        "    ws.cell(row=start_row + i, column=2, value=name)\n",
        "    ws.cell(row=start_row + i, column=3, value=qty)\n",
        "    ws.cell(row=start_row + i, column=4, value=price)\n",
        "    ws.cell(row=start_row + i, column=5, value=amount)\n",
        "\n",
        "# 小計・消費税・合計\n",
        "subtotal = sum(qty * price for _, qty, price in items)\n",
        "tax = int(subtotal * 0.1)\n",
        "total = subtotal + tax\n",
        "\n",
        "ws['E13'] = subtotal\n",
        "ws['D15'] = '小計'\n",
        "ws['E15'] = subtotal\n",
        "\n",
        "ws['D16'] = '消費税'\n",
        "ws['E16'] = tax\n",
        "\n",
        "ws['D17'] = '合計'\n",
        "ws['E17'] = total\n",
        "ws['E17'].font = Font(bold=True)\n",
        "\n",
        "# 配置調整（簡易）\n",
        "for col in ['B', 'C', 'D', 'E', 'F', 'G']:\n",
        "    ws.column_dimensions[col].width = 15\n",
        "\n",
        "# 保存\n",
        "wb.save(filename)\n",
        "print(f'ファイル「{filename}」を作成しました。')"
      ],
      "metadata": {
        "colab": {
          "base_uri": "https://localhost:8080/"
        },
        "id": "xHQPHD0J_N-5",
        "outputId": "6085236b-c680-45a5-de6a-9f3916af94d8"
      },
      "execution_count": 3,
      "outputs": [
        {
          "output_type": "stream",
          "name": "stdout",
          "text": [
            "ファイル「請求書_20250531.xlsx」を作成しました。\n"
          ]
        }
      ]
    }
  ]
}