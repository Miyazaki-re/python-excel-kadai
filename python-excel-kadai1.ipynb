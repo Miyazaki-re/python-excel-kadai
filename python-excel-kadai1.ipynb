{
  "nbformat": 4,
  "nbformat_minor": 0,
  "metadata": {
    "colab": {
      "provenance": []
    },
    "kernelspec": {
      "name": "python3",
      "display_name": "Python 3"
    },
    "language_info": {
      "name": "python"
    }
  },
  "cells": [
    {
      "cell_type": "code",
      "source": [
        "from openpyxl import Workbook\n",
        "from openpyxl.styles import Alignment, Font\n",
        "from datetime import datetime\n",
        "\n",
        "# 日付とファイル名\n",
        "today = datetime.today().strftime('%Y/%m/%d')\n",
        "filename = f'請求書_{datetime.today().strftime(\"%Y%m%d\")}.xlsx'\n",
        "\n",
        "# ワークブック初期化\n",
        "wb = Workbook()\n",
        "ws = wb.active\n",
        "\n",
        "# セルの内容設定\n",
        "ws['B2'] = '請求書'\n",
        "ws['B2'].font = Font(size=18, bold=True)\n",
        "\n",
        "ws['B4'] = '株式会社ABC'\n",
        "ws['B5'] = '〒101-0022 東京都千代田区神田練塀町300'\n",
        "ws['B6'] = 'TEL:03-1234-5678 FAX:03-1234-5678'\n",
        "ws['B7'] = '担当者名:鈴木一郎 様'\n",
        "\n",
        "ws['F4'] = 'No.'\n",
        "ws['G4'] = '0001'\n",
        "ws['F5'] = '日付'\n",
        "ws['G5'] = today\n",
        "\n",
        "# 明細ヘッダー\n",
        "ws['B10'] = '商品名'\n",
        "ws['C10'] = '数量'\n",
        "ws['D10'] = '単価'\n",
        "ws['E10'] = '金額'\n",
        "\n",
        "# 明細内容（例）\n",
        "items = [\n",
        "    ['商品A', 2, 10000],\n",
        "    ['商品B', 1, 15000],\n",
        "]\n",
        "\n",
        "start_row = 11\n",
        "for i, item in enumerate(items):\n",
        "    name, qty, price = item\n",
        "    amount = qty * price\n",
        "    ws.cell(row=start_row + i, column=2, value=name)\n",
        "    ws.cell(row=start_row + i, column=3, value=qty)\n",
        "    ws.cell(row=start_row + i, column=4, value=price)\n",
        "    ws.cell(row=start_row + i, column=5, value=amount)\n",
        "\n",
        "# 小計・消費税・合計\n",
        "subtotal = sum(q * p for _, q, p in items)\n",
        "tax = int(subtotal * 0.1)\n",
        "total = subtotal + tax\n",
        "\n",
        "ws['E13'] = subtotal\n",
        "ws['D15'] = '小計'\n",
        "ws['E15'] = subtotal\n",
        "\n",
        "ws['D16'] = '消費税'\n",
        "ws['E16'] = tax\n",
        "\n",
        "ws['D17'] = '合計'\n",
        "ws['E17'] = total\n",
        "ws['E17'].font = Font(bold=True)\n",
        "\n",
        "# 配置調整（簡易）\n",
        "for col in ['B', 'C', 'D', 'E', 'F', 'G']:\n",
        "    ws.column_dimensions[col].width = 15\n",
        "\n",
        "# 保存\n",
        "wb.save(filename)\n",
        "print(f'ファイル「{filename}」を作成しました。')"
      ],
      "metadata": {
        "colab": {
          "base_uri": "https://localhost:8080/"
        },
        "id": "ZdrJ6THtKddO",
        "outputId": "7c532dc9-3fe0-4e6e-c158-24b9a1deeff1"
      },
      "execution_count": null,
      "outputs": [
        {
          "output_type": "stream",
          "name": "stdout",
          "text": [
            "ファイル「請求書_20250530.xlsx」を作成しました。\n"
          ]
        }
      ]
    }
  ]
}